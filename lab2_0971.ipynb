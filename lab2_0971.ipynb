{
 "cells": [
  {
   "cell_type": "code",
   "execution_count": 135,
   "metadata": {},
   "outputs": [],
   "source": [
    "import numpy as np\n",
    "import matplotlib.pyplot as plt"
   ]
  },
  {
   "cell_type": "markdown",
   "metadata": {},
   "source": [
    "define function of $e^{-x}-x$ and specific error of 0.00001"
   ]
  },
  {
   "cell_type": "code",
   "execution_count": 136,
   "metadata": {},
   "outputs": [],
   "source": [
    "def ExpoNegativeXMinusX(x):\n",
    "    return np.exp(-x)-x\n",
    "\n",
    "es = 0.00001"
   ]
  },
  {
   "cell_type": "markdown",
   "metadata": {},
   "source": [
    "derivative of $e^{-x}-x$ is $-e^{-x}-1$"
   ]
  },
  {
   "cell_type": "code",
   "execution_count": 137,
   "metadata": {},
   "outputs": [],
   "source": [
    "def DiffExpoNegativeXMinusX(x):\n",
    "    return -np.exp(-x) -1"
   ]
  },
  {
   "cell_type": "markdown",
   "metadata": {},
   "source": [
    "# Bracketing Methods"
   ]
  },
  {
   "cell_type": "markdown",
   "metadata": {},
   "source": [
    "### Bisection Method"
   ]
  },
  {
   "cell_type": "code",
   "execution_count": 138,
   "metadata": {},
   "outputs": [],
   "source": [
    "def bisection_method(func, xl, xu, es, max_iter = 10000) :\n",
    "\n",
    "    if func(xl) * func(xu) >= 0 :\n",
    "        raise ValueError(f\"Opposite signs at the interval of [{xl}, {xu}]\")\n",
    "    elif func(xl) == 0 :\n",
    "        return xl\n",
    "    elif func(xu) == 0 :\n",
    "        return xu\n",
    "    \n",
    "    iter_count = 0\n",
    "    errors = []\n",
    "    xr = 0\n",
    "    ea = 100\n",
    "    \n",
    "    while ea > es and iter_count < max_iter :\n",
    "        old_xr = xr\n",
    "        xr = (xl + xu) / 2\n",
    "        iter_count += 1\n",
    "        \n",
    "        if func(xr) == 0 :\n",
    "            errors.append(0)\n",
    "            return xr, iter_count, errors\n",
    "        elif func(xl) * func(xr) < 0 :\n",
    "            xu = xr\n",
    "        else :\n",
    "            xl = xr\n",
    "            \n",
    "        if xr is not None :\n",
    "            ea = abs((xr - old_xr) / xr * 100)\n",
    "            errors.append(ea)\n",
    "    \n",
    "    return xr, iter_count, errors"
   ]
  },
  {
   "cell_type": "markdown",
   "metadata": {},
   "source": [
    "interval of $[0, 1.3]$ of $e^{-x}-x$ with es of 0.00001"
   ]
  },
  {
   "cell_type": "code",
   "execution_count": 139,
   "metadata": {},
   "outputs": [
    {
     "name": "stdout",
     "output_type": "stream",
     "text": [
      "Root : 0.5671432882547379\n",
      "Iteration : 25\n",
      "Approximation Errors : [100.0, 100.0, 33.333333333333336, 14.28571428571429, 7.692307692307695, 3.7037037037037153, 1.818181818181814, 0.9009009009008891, 0.4484304932735465, 0.22371364653245018, 0.11198208286675698, 0.05595970900952097, 0.02798768541841981, 0.01399188470688176, 0.006995452955574957, 0.003497604141151557, 0.0017487714880335741, 0.0008743933895977201, 0.00043719860620692827, 0.00021859978095127404, 0.00010930000995021603, 5.465003485114263e-05, 2.7325024882351273e-05, 1.3662514298030501e-05, 6.8312576254638785e-06]\n"
     ]
    }
   ],
   "source": [
    "root_bi, iterations_bi, errors_bi = bisection_method(ExpoNegativeXMinusX, 0, 1.3, es)\n",
    "\n",
    "print(f\"Root : {root_bi}\")\n",
    "print(f\"Iteration : {iterations_bi}\")\n",
    "print(f\"Approximation Errors : {errors_bi}\")"
   ]
  },
  {
   "cell_type": "markdown",
   "metadata": {},
   "source": [
    "### False Position Method"
   ]
  },
  {
   "cell_type": "code",
   "execution_count": 140,
   "metadata": {},
   "outputs": [],
   "source": [
    "def false_position_method(func, xl, xu, es, max_iter = 10000) :\n",
    "    \n",
    "    if func(xl) * func(xu) >= 0 :\n",
    "        raise ValueError(f\"Opposite signs at the interval of [{xl}, {xu}]\")\n",
    "    elif func(xl) == 0 :\n",
    "        return xl\n",
    "    elif func(xu) == 0 :\n",
    "        return xu\n",
    "    \n",
    "    iter_count = 0\n",
    "    errors = []\n",
    "    xr = 0\n",
    "    ea = 100\n",
    "    \n",
    "    while ea > es and iter_count < max_iter :\n",
    "        old_xr = xr\n",
    "        xr = xu - (func(xu) * (xl - xu)) / (func(xl) - func(xu))\n",
    "        iter_count += 1\n",
    "        \n",
    "        if func(xr) == 0 :\n",
    "            errors.append(0)\n",
    "            return xr, iter_count, errors\n",
    "        elif func(xl) * func(xr) < 0:\n",
    "            xu = xr\n",
    "        else:\n",
    "            xl = xr\n",
    "        \n",
    "        if xr is not None :\n",
    "            ea = abs((xr - old_xr) / xr) * 100\n",
    "            errors.append(ea)\n",
    "            \n",
    "    return xr, iter_count, errors"
   ]
  },
  {
   "cell_type": "markdown",
   "metadata": {},
   "source": [
    "interval of $[0, 1.3]$ of $e^{-x}-x$ with es of 0.00001"
   ]
  },
  {
   "cell_type": "code",
   "execution_count": 141,
   "metadata": {},
   "outputs": [
    {
     "name": "stdout",
     "output_type": "stream",
     "text": [
      "Root : 0.5671432921242093\n",
      "Iteration : 9\n",
      "Approximation Errors : [np.float64(100.0), np.float64(11.453044893027078), np.float64(1.277010144852476), np.float64(0.14205586036043172), np.float64(0.01579792061008576), np.float64(0.0017568179487634187), np.float64(0.00019536737475019613), np.float64(2.1725868623933377e-05), np.float64(2.4160295213826726e-06)]\n"
     ]
    }
   ],
   "source": [
    "root_fp, iterations_fp, errors_fp = false_position_method(ExpoNegativeXMinusX, 0, 1.3, es)\n",
    "\n",
    "print(f\"Root : {root_fp}\")\n",
    "print(f\"Iteration : {iterations_fp}\")\n",
    "print(f\"Approximation Errors : {errors_fp}\")"
   ]
  },
  {
   "cell_type": "markdown",
   "metadata": {},
   "source": [
    "# Open Methods"
   ]
  },
  {
   "cell_type": "markdown",
   "metadata": {},
   "source": [
    "### Newton-Raphson Method"
   ]
  },
  {
   "cell_type": "code",
   "execution_count": 142,
   "metadata": {},
   "outputs": [],
   "source": [
    "def newton_raphson_method(func, func_diff, xi, es, max_iter = 10000) :\n",
    "    \n",
    "    iter_count = 0\n",
    "    errors = []\n",
    "    \n",
    "    ea = 100\n",
    "    \n",
    "    while ea > es and iter_count < max_iter :\n",
    "        old_xi = xi\n",
    "        xi = xi - func(xi)/func_diff(xi)\n",
    "        iter_count += 1\n",
    "        \n",
    "        if func(xi) == 0:\n",
    "            errors.append(0)\n",
    "            return xi, iter_count, errors\n",
    "        \n",
    "        if xi is not None:\n",
    "            ea = abs((xi - old_xi)/ xi) *100\n",
    "            errors.append(ea)\n",
    "            \n",
    "    return xi, iter_count, errors"
   ]
  },
  {
   "cell_type": "markdown",
   "metadata": {},
   "source": [
    "interval of $[0, 1.3]$ of $e^{-x}-x$ and derivative is $-e^{-x}-1$ with es of 0.00001"
   ]
  },
  {
   "cell_type": "code",
   "execution_count": 143,
   "metadata": {},
   "outputs": [
    {
     "name": "stdout",
     "output_type": "stream",
     "text": [
      "Root : 0.567143290409784\n",
      "Iteration : 5\n",
      "Approximation Errors : [np.float64(100.0), np.float64(11.709290976662396), np.float64(0.14672870783743905), np.float64(2.2106391984397623e-05), np.float64(5.08968352942999e-13)]\n"
     ]
    }
   ],
   "source": [
    "root_nr, iterations_nr, errors_nr = newton_raphson_method(ExpoNegativeXMinusX, DiffExpoNegativeXMinusX, 0, es)\n",
    "\n",
    "print(f\"Root : {root_nr}\")\n",
    "print(f\"Iteration : {iterations_nr}\")\n",
    "print(f\"Approximation Errors : {errors_nr}\")"
   ]
  },
  {
   "cell_type": "markdown",
   "metadata": {},
   "source": [
    "### Secant Method"
   ]
  },
  {
   "cell_type": "code",
   "execution_count": 144,
   "metadata": {},
   "outputs": [],
   "source": [
    "def secant_method(func, xi, old_xi, es, max_iter = 10000) :\n",
    "    \n",
    "    iter_count = 0\n",
    "    errors = []\n",
    "    ea = 100\n",
    "    \n",
    "    while ea > es and iter_count < max_iter :\n",
    "        xi_next = xi - (func(xi) * (old_xi - xi)) / (func(old_xi) - func(xi))\n",
    "        iter_count += 1\n",
    "        \n",
    "        old_xi = xi\n",
    "        xi = xi_next\n",
    "        \n",
    "        if func(xi) == 0 :\n",
    "            errors.append(0)\n",
    "            return xi, iter_count, errors\n",
    "        \n",
    "        if xi is not None :\n",
    "            ea = abs((xi - old_xi) / xi) * 100\n",
    "            errors.append(ea)\n",
    "            \n",
    "    return xi, iter_count, errors"
   ]
  },
  {
   "cell_type": "markdown",
   "metadata": {},
   "source": [
    "start with $x_i = 0$ and es of 0.00001"
   ]
  },
  {
   "cell_type": "code",
   "execution_count": 145,
   "metadata": {},
   "outputs": [
    {
     "name": "stdout",
     "output_type": "stream",
     "text": [
      "Root : 0.5671432904097835\n",
      "Iteration : 6\n",
      "Approximation Errors : [np.float64(100.0), np.float64(32.4321186383904), np.float64(3.856448534378175), np.float64(0.14842403197744974), np.float64(0.0006138459046437218), np.float64(9.391237394610106e-08)]\n"
     ]
    }
   ],
   "source": [
    "root_sc, iterations_sc, errors_sc = secant_method(ExpoNegativeXMinusX, 0, -1, es)\n",
    "\n",
    "print(f\"Root : {root_sc}\")\n",
    "print(f\"Iteration : {iterations_sc}\")\n",
    "print(f\"Approximation Errors : {errors_sc}\")"
   ]
  },
  {
   "cell_type": "code",
   "execution_count": null,
   "metadata": {},
   "outputs": [
    {
     "data": {
      "image/png": "[encoded data removed]",
      "text/plain": [
       "<Figure size 1000x600 with 1 Axes>"
      ]
     },
     "metadata": {},
     "output_type": "display_data"
    }
   ],
   "source": [
    "plt.figure(figsize=(10, 6))\n",
    "plt.plot(range(1, len(errors_bi) + 1), errors_bi, marker=\"o\", label=\"Bisection\")\n",
    "plt.plot(range(1, len(errors_fp) + 1), errors_fp, marker=\"o\", label=\"FalsePosition\")\n",
    "plt.plot(range(1, len(errors_nr) + 1), errors_nr, marker=\"o\", label=\"Newton-Raphson\")\n",
    "plt.plot(range(1, len(errors_sc) + 1), errors_sc, marker=\"o\", label=\"Secant\")\n",
    "plt.title(\"Approximation Errors of $e^{-x}-x$\")\n",
    "plt.xlabel(\"Iteration\")\n",
    "plt.ylabel(\"Error\")\n",
    "plt.grid(True, which=\"both\", linestyle=\"--\")\n",
    "plt.legend()\n",
    "plt.show()"
   ]
  }
 ],
 "metadata": {
  "kernelspec": {
   "display_name": "Python 3",
   "language": "python",
   "name": "python3"
  },
  "language_info": {
   "codemirror_mode": {
    "name": "ipython",
    "version": 3
   },
   "file_extension": ".py",
   "mimetype": "text/x-python",
   "name": "python",
   "nbconvert_exporter": "python",
   "pygments_lexer": "ipython3",
   "version": "3.11.4"
  }
 },
 "nbformat": 4,
 "nbformat_minor": 2
}
