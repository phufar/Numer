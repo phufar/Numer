{
 "cells": [
  {
   "cell_type": "code",
   "execution_count": 69,
   "metadata": {},
   "outputs": [],
   "source": [
    "import numpy as np"
   ]
  },
  {
   "cell_type": "code",
   "execution_count": 70,
   "metadata": {},
   "outputs": [],
   "source": [
    "def lu_decomposition_with_pivot(A):\n",
    "    n = A.shape[0]\n",
    "    P = np.eye(n)\n",
    "    A = A.copy()\n",
    "    \n",
    "    steps = []\n",
    "    \n",
    "    for i in range(n - 1):\n",
    "        max_row = np.argmax(np.abs(A[i:, i])) + i\n",
    "        if A[max_row, i] == 0:\n",
    "            raise ValueError(\"No unique solution exists\")\n",
    "        \n",
    "        A[[i, max_row]] = A[[max_row, i]]\n",
    "        P[[i, max_row]] = P[[max_row, i]]\n",
    "    \n",
    "        for j in range(i + 1, n):\n",
    "            factor = A[j, i] / A[i, i]\n",
    "            \n",
    "            A[j, i] = factor\n",
    "            \n",
    "            for k in range(i + 1, n):\n",
    "                A[j, k] -= factor * A[i, k]\n",
    "                \n",
    "            steps.append((A.copy))\n",
    "        \n",
    "    return A, P, steps"
   ]
  },
  {
   "cell_type": "code",
   "execution_count": 71,
   "metadata": {},
   "outputs": [],
   "source": [
    "def extract_lu(A_lu):\n",
    "    n = A_lu.shape[0]\n",
    "    L = np.eye(n)\n",
    "    U = np.zeros_like(A_lu)\n",
    "    \n",
    "    for i in range(n):\n",
    "        for j in range(n):\n",
    "            if i > j:\n",
    "                L[i, j] = A_lu[i, j]\n",
    "            else:\n",
    "                U[i, j] = A_lu[i, j]\n",
    "                \n",
    "    return L, U"
   ]
  },
  {
   "cell_type": "code",
   "execution_count": 72,
   "metadata": {},
   "outputs": [],
   "source": [
    "def forward_substitution(L, b):\n",
    "    n = len(b)\n",
    "    D = np.zeros_like(b)\n",
    "    \n",
    "    for i in range(n):\n",
    "        D[i] = b[i] - np.dot(L[i, :i], D[:i])\n",
    "        \n",
    "    return D"
   ]
  },
  {
   "cell_type": "code",
   "execution_count": 73,
   "metadata": {},
   "outputs": [],
   "source": [
    "def backward_substitution(U, y):\n",
    "    n = len(y)\n",
    "    x = np.zeros_like(y)\n",
    "    \n",
    "    for i in range(n - 1, -1, -1):\n",
    "        x[i] = (y[i] - np.dot(U[i, i + 1:], x[i + 1:])) / U[i, i]\n",
    "        \n",
    "    return x"
   ]
  },
  {
   "cell_type": "code",
   "execution_count": 74,
   "metadata": {},
   "outputs": [],
   "source": [
    "def display_solution(solution, title):\n",
    "    print(f\"\\n{'=' * 50}\")\n",
    "    print(f\"{title}\")\n",
    "    print(f\"{'=' * 50}\")\n",
    "    for i , value in enumerate(solution):\n",
    "        print(f\"x[{i + 1}]) = {value:.3f}\")\n",
    "    print(f\"\\n{'=' * 50}\")"
   ]
  },
  {
   "cell_type": "code",
   "execution_count": 75,
   "metadata": {},
   "outputs": [],
   "source": [
    "def display_steps(steps, title):\n",
    "    print(f\"\\n{'=' * 50}\")\n",
    "    print(f\"{title}\")\n",
    "    print(f\"{'=' * 50}\")\n",
    "    for i, (A_step, b_step) in enumerate(steps):\n",
    "        print(f\"Step {i + 1}\")\n",
    "        print(\"Matrix A:\")\n",
    "        print(np.array_str(A_step, precision=3, suppress_small=True))\n",
    "        print(\"Vector b:\")\n",
    "        print(np.array_str(b_step, precision=3, suppress_small=True))\n",
    "        print(f\"{'-' * 50}\")"
   ]
  },
  {
   "cell_type": "markdown",
   "metadata": {},
   "source": [
    "since we have Main Dish, Drinks, Desserts as variable\\\n",
    "**Person 1**\\\n",
    "2 Main + 3 Drinks + 1 Desserts = 200 baht\\\n",
    "**Person 2**\\\n",
    "1 Main + 2 Drinks + 2 Desserts = 150 baht\\\n",
    "**Person 3**\\\n",
    "1 Main + 1 Drinks + 3 Desserts = 100 baht\\\n",
    "find cost per item\n",
    "\n",
    "can write as\n",
    "\n",
    "$\\begin{bmatrix} 2 & 3 & 1 \\\\ 1 & 2 & 2 \\\\ 1 & 1 & 3 \\end{bmatrix} \\cdot \\begin{bmatrix}  \\textrm{Main} \\\\ \\textrm{Drinks} \\\\ \\textrm{Desserts} \\end{bmatrix} = \\begin{bmatrix} 200 \\\\ 150 \\\\ 100 \\end{bmatrix}$"
   ]
  },
  {
   "cell_type": "code",
   "execution_count": 76,
   "metadata": {},
   "outputs": [],
   "source": [
    "A = np.array([\n",
    "    [2, 3, 1],\n",
    "    [1, 2, 2],\n",
    "    [1, 1, 3]\n",
    "    ], dtype=float)\n",
    "\n",
    "b = np.array([200, 150, 100], dtype=float)"
   ]
  },
  {
   "cell_type": "markdown",
   "metadata": {},
   "source": [
    "LU decomposition of A"
   ]
  },
  {
   "cell_type": "code",
   "execution_count": 77,
   "metadata": {},
   "outputs": [
    {
     "name": "stdout",
     "output_type": "stream",
     "text": [
      "[[ 2.   3.   1. ]\n",
      " [ 0.5  0.5  1.5]\n",
      " [ 0.5 -1.   4. ]]\n",
      "[[1. 0. 0.]\n",
      " [0. 1. 0.]\n",
      " [0. 0. 1.]]\n"
     ]
    }
   ],
   "source": [
    "lu , permu, steps_pivot = lu_decomposition_with_pivot(A)\n",
    "\n",
    "print(np.array_str(lu, precision=3, suppress_small=True))\n",
    "print(np.array_str(permu, precision=3, suppress_small=True))"
   ]
  },
  {
   "cell_type": "markdown",
   "metadata": {},
   "source": [
    "Extract LU"
   ]
  },
  {
   "cell_type": "code",
   "execution_count": 78,
   "metadata": {},
   "outputs": [
    {
     "name": "stdout",
     "output_type": "stream",
     "text": [
      "\n",
      "Lower Triangular Matrix L:\n",
      "[[ 1.   0.   0. ]\n",
      " [ 0.5  1.   0. ]\n",
      " [ 0.5 -1.   1. ]]\n",
      "\n",
      "Upper Triangular Matrix U:\n",
      "[[2.  3.  1. ]\n",
      " [0.  0.5 1.5]\n",
      " [0.  0.  4. ]]\n",
      "\n",
      "Reconstructed Matrix L @ U:\n",
      "[[2. 3. 1.]\n",
      " [1. 2. 2.]\n",
      " [1. 1. 3.]]\n",
      "\n",
      "Permuted Matrix P @ A:\n",
      "[[2. 3. 1.]\n",
      " [1. 2. 2.]\n",
      " [1. 1. 3.]]\n"
     ]
    }
   ],
   "source": [
    "L, U = extract_lu(lu)\n",
    "\n",
    "print(\"\\nLower Triangular Matrix L:\")\n",
    "print(np.array_str(L, precision=3, suppress_small=True))\n",
    "print(\"\\nUpper Triangular Matrix U:\")\n",
    "print(np.array_str(U, precision=3, suppress_small=True))\n",
    "print(\"\\nReconstructed Matrix L @ U:\")\n",
    "print(np.array_str(L @ U, precision=3, suppress_small=True))\n",
    "print(\"\\nPermuted Matrix P @ A:\")\n",
    "print(np.array_str(permu @ A, precision=3, suppress_small=True))"
   ]
  },
  {
   "cell_type": "markdown",
   "metadata": {},
   "source": [
    "Forward Substitution"
   ]
  },
  {
   "cell_type": "code",
   "execution_count": 79,
   "metadata": {},
   "outputs": [
    {
     "name": "stdout",
     "output_type": "stream",
     "text": [
      "D = [200.  50.  50.]\n"
     ]
    }
   ],
   "source": [
    "D = forward_substitution(lu, b)\n",
    "print(f\"D = {np.array_str(D, precision=3, suppress_small=True)}\")"
   ]
  },
  {
   "cell_type": "markdown",
   "metadata": {},
   "source": [
    "Backward Substitution"
   ]
  },
  {
   "cell_type": "code",
   "execution_count": 80,
   "metadata": {},
   "outputs": [
    {
     "name": "stdout",
     "output_type": "stream",
     "text": [
      "x = [ 0.  62.5 12.5]\n"
     ]
    }
   ],
   "source": [
    "X = backward_substitution(lu, D)\n",
    "print(f\"x = {np.array_str(X, precision=3, suppress_small=True)}\")"
   ]
  },
  {
   "cell_type": "markdown",
   "metadata": {},
   "source": [
    "**Result**"
   ]
  },
  {
   "cell_type": "code",
   "execution_count": 81,
   "metadata": {},
   "outputs": [
    {
     "name": "stdout",
     "output_type": "stream",
     "text": [
      "Main = 0.0 bath\n",
      "Drinks = 62.5 bath\n",
      "Desserts = 12.5 bath\n"
     ]
    }
   ],
   "source": [
    "print(f\"Main = {X[0]} bath\")\n",
    "print(f\"Drinks = {X[1]} bath\")\n",
    "print(f\"Desserts = {X[2]} bath\")"
   ]
  }
 ],
 "metadata": {
  "kernelspec": {
   "display_name": "Python 3",
   "language": "python",
   "name": "python3"
  },
  "language_info": {
   "codemirror_mode": {
    "name": "ipython",
    "version": 3
   },
   "file_extension": ".py",
   "mimetype": "text/x-python",
   "name": "python",
   "nbconvert_exporter": "python",
   "pygments_lexer": "ipython3",
   "version": "3.11.4"
  }
 },
 "nbformat": 4,
 "nbformat_minor": 2
}
