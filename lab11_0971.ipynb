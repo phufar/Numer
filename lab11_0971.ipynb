{
 "cells": [
  {
   "cell_type": "code",
   "execution_count": 54,
   "metadata": {},
   "outputs": [
    {
     "data": {
      "text/plain": [
       "left_riemann (generic function with 1 method)"
      ]
     },
     "metadata": {},
     "output_type": "display_data"
    }
   ],
   "source": [
    "function left_riemann(f, a, b, n)\n",
    "    h = (b - a) / n\n",
    "    sum = 0.0\n",
    "    for i in 0 : n - 1\n",
    "        sum += f(a + i * h)\n",
    "    end\n",
    "    return h * sum\n",
    "end"
   ]
  },
  {
   "cell_type": "code",
   "execution_count": 55,
   "metadata": {},
   "outputs": [
    {
     "data": {
      "text/plain": [
       "right_riemann (generic function with 1 method)"
      ]
     },
     "metadata": {},
     "output_type": "display_data"
    }
   ],
   "source": [
    "function right_riemann(f, a, b, n)\n",
    "    h = (b - a) / n\n",
    "    sum = 0.0\n",
    "    for i in 1 : n\n",
    "        sum += f(a + i * h)\n",
    "    end\n",
    "    return h * sum\n",
    "end"
   ]
  },
  {
   "cell_type": "code",
   "execution_count": 56,
   "metadata": {},
   "outputs": [
    {
     "data": {
      "text/plain": [
       "midpoint_riemann (generic function with 1 method)"
      ]
     },
     "metadata": {},
     "output_type": "display_data"
    }
   ],
   "source": [
    "function midpoint_riemann(f, a, b, n)\n",
    "    h = (b - a) / n\n",
    "    sum = 0.0\n",
    "    for i in 0 : n - 1\n",
    "        sum +=  f(a + (i + 0.5) * h)\n",
    "    end\n",
    "    return h * sum\n",
    "end"
   ]
  },
  {
   "cell_type": "code",
   "execution_count": 57,
   "metadata": {},
   "outputs": [
    {
     "data": {
      "text/plain": [
       "trapezoidal_rule (generic function with 1 method)"
      ]
     },
     "metadata": {},
     "output_type": "display_data"
    }
   ],
   "source": [
    "function trapezoidal_rule(f, a, b, n)\n",
    "    h = (b - a) / n\n",
    "    sum = (f(a) + f(b)) / 2.0\n",
    "    for i in 1 : n - 1\n",
    "        sum += f(a + i * h)\n",
    "    end\n",
    "    return h * sum\n",
    "end"
   ]
  },
  {
   "cell_type": "code",
   "execution_count": 58,
   "metadata": {},
   "outputs": [
    {
     "data": {
      "text/plain": [
       "simpsons_1_3 (generic function with 1 method)"
      ]
     },
     "metadata": {},
     "output_type": "display_data"
    }
   ],
   "source": [
    "function simpsons_1_3(f, a, b)\n",
    "    h = (b - a)/2\n",
    "    return (h / 3) * (f(a) + 4 * f((a + b) / 2) + f(b))\n",
    "end"
   ]
  },
  {
   "cell_type": "code",
   "execution_count": 59,
   "metadata": {},
   "outputs": [
    {
     "data": {
      "text/plain": [
       "simpsons_3_8 (generic function with 1 method)"
      ]
     },
     "metadata": {},
     "output_type": "display_data"
    }
   ],
   "source": [
    "function simpsons_3_8(f, a, b)\n",
    "    h = (b - a) / 3\n",
    "    return (3 * h / 8) * (f(a) + 3 * f(a + h) + 3 * f(a + 2 * h) + f(b))\n",
    "end"
   ]
  },
  {
   "cell_type": "code",
   "execution_count": 60,
   "metadata": {},
   "outputs": [
    {
     "data": {
      "text/plain": [
       "newton_cotes (generic function with 1 method)"
      ]
     },
     "metadata": {},
     "output_type": "display_data"
    }
   ],
   "source": [
    "function newton_cotes(f, a, b, n)\n",
    "    if n < 2\n",
    "        error(\"Number of subintervals (n) must be at least 2\")\n",
    "    end\n",
    "\n",
    "    h = (b - a) / 2\n",
    "    integral = 0.0\n",
    "    i = 0\n",
    "    while i + 2 <= n - 1\n",
    "        integral += simpsons_1_3(f, a + i * h, a + (i + 2) * h)\n",
    "        i += 2\n",
    "\n",
    "        if n - i == 3\n",
    "            break\n",
    "        end\n",
    "    end\n",
    "    if n - i == 2\n",
    "        integral += simpsons_1_3(f, a + i * h, b)\n",
    "    elseif n - i == 3\n",
    "        integral += simpsons_3_8(f, a + i * h, b)\n",
    "    end\n",
    "    return integral\n",
    "end"
   ]
  },
  {
   "cell_type": "code",
   "execution_count": 61,
   "metadata": {},
   "outputs": [
    {
     "name": "stdout",
     "output_type": "stream",
     "text": [
      "approximated value : 28.274333882308156\n",
      "exact_volume : 28.274333882308134\n",
      "true error : -2.1316282072803006e-14\n",
      "true relative error : 7.539092578283893e-14 %\n"
     ]
    }
   ],
   "source": [
    "f(x) = pi * x ^ 2\n",
    "a, b = 0, 3\n",
    "n = 10\n",
    "\n",
    "exact_integral(b, a) = (pi / 3 * a ^ 3) - (pi / 3 * b ^ 3)\n",
    "exact_volume = exact_integral(a, b)\n",
    "approx_volume = newton_cotes(f, a, b, n)\n",
    "true_error = exact_volume - approx_volume\n",
    "true_relative = abs(true_error / exact_volume) * 100\n",
    "println(\"approximated value : $approx_volume\")\n",
    "println(\"exact_volume : $exact_volume\")\n",
    "println(\"true error : $true_error\")\n",
    "println(\"true relative error : $true_relative %\")\n"
   ]
  }
 ],
 "metadata": {
  "kernelspec": {
   "display_name": "Julia 1.11.3",
   "language": "julia",
   "name": "julia-1.11"
  },
  "language_info": {
   "file_extension": ".jl",
   "mimetype": "application/julia",
   "name": "julia",
   "version": "1.11.3"
  }
 },
 "nbformat": 4,
 "nbformat_minor": 2
}
